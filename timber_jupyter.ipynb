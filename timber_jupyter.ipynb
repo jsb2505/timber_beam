{
 "cells": [
  {
   "cell_type": "markdown",
   "metadata": {},
   "source": [
    "## Timber Package"
   ]
  },
  {
   "cell_type": "code",
   "execution_count": 3,
   "metadata": {},
   "outputs": [
    {
     "name": "stdout",
     "output_type": "stream",
     "text": [
      "Bending strength: 17.62 N/mm^2, Bending stress: 13.33 N/mm^2\n",
      "Shear strength: 2.71 N/mm^2, Shear stress: 2.49 N/mm^2\n",
      "Buckling strength: 17.11 N/mm^2, Bending stress: 13.33 N/mm^2\n",
      "Final deflection: 14.46 mm\n"
     ]
    }
   ],
   "source": [
    "from timber_material import TimberMaterial\n",
    "from timber_beam import TimberBeam\n",
    "from timber_design import TimberDesign\n",
    "\n",
    "is_load_sharing = True\n",
    "load_duration = \"medium_term\"\n",
    "\n",
    "my_material = TimberMaterial(\"softwood\", \"C24\", 1)\n",
    "my_beam = TimberBeam(3000, 45, 100, my_material)\n",
    "# my_design = TimberDesign(3000)\n",
    "\n",
    "# Bending\n",
    "bending_stress = my_beam.get_bending_stress(1)\n",
    "bending_strength = my_beam.get_bending_strength(is_load_sharing, load_duration)\n",
    "print(f\"Bending strength: {bending_strength:.2f} N/mm^2, Bending stress: {bending_stress:.2f} N/mm^2\")\n",
    "\n",
    "# Shear\n",
    "shear_stress = my_beam.get_shear_stress(5)\n",
    "shear_strength = my_beam.get_shear_strength(is_load_sharing, load_duration)\n",
    "print(f\"Shear strength: {shear_strength:.2f} N/mm^2, Shear stress: {shear_stress:.2f} N/mm^2\")\n",
    "\n",
    "# LTB\n",
    "buckling_strength = my_beam.get_buckling_strength(is_load_sharing, load_duration)\n",
    "print(f\"Buckling strength: {buckling_strength:.2f} N/mm^2, Bending stress: {bending_stress:.2f} N/mm^2\")\n",
    "\n",
    "# Deflection\n",
    "with_creep = True\n",
    "final_deflection = my_beam.get_final_deflection(0.2, 0.2, 0.3, with_creep)\n",
    "print(f\"Final deflection: {final_deflection:.2f} mm\")"
   ]
  }
 ],
 "metadata": {
  "kernelspec": {
   "display_name": "Python 3",
   "language": "python",
   "name": "python3"
  },
  "language_info": {
   "codemirror_mode": {
    "name": "ipython",
    "version": 3
   },
   "file_extension": ".py",
   "mimetype": "text/x-python",
   "name": "python",
   "nbconvert_exporter": "python",
   "pygments_lexer": "ipython3",
   "version": "3.12.0"
  }
 },
 "nbformat": 4,
 "nbformat_minor": 2
}
